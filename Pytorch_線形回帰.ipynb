{
 "cells": [
  {
   "cell_type": "code",
   "execution_count": 331,
   "metadata": {},
   "outputs": [],
   "source": [
    "import numpy as np\n",
    "import matplotlib.pyplot as plt\n",
    "import pandas as pd\n",
    "from sklearn.datasets import load_boston\n",
    "\n",
    "import torch\n",
    "import torch.nn as nn\n",
    "import torch.nn.functional as F\n",
    "from torch.autograd import Variable \n",
    "import torch.optim as optim #最適化関数\n",
    "import torch.nn.functional as F #ネットワーク用の様々な関数"
   ]
  },
  {
   "cell_type": "markdown",
   "metadata": {},
   "source": [
    "## torchtensorに変換する\n",
    "\n",
    "pytorchではtorchtensorというデータ型が存在し基本的に学習や予測はその型で行う。"
   ]
  },
  {
   "cell_type": "code",
   "execution_count": 332,
   "metadata": {},
   "outputs": [
    {
     "data": {
      "text/plain": [
       "tensor([0., 1., 2., 3., 4.], requires_grad=True)"
      ]
     },
     "execution_count": 332,
     "metadata": {},
     "output_type": "execute_result"
    }
   ],
   "source": [
    "x = np.arange(5,dtype=np.float32)\n",
    "x_torch = torch.tensor(x, requires_grad=True)\n",
    "x_torch"
   ]
  },
  {
   "cell_type": "markdown",
   "metadata": {},
   "source": [
    "## 勾配を計算してみよう"
   ]
  },
  {
   "cell_type": "markdown",
   "metadata": {},
   "source": [
    "x = 1の時  \n",
    "\n",
    "$y = x^2+2x$ という数式を考える。微分すると　$\\frac{dy}{dx}= 2x+ 2$"
   ]
  },
  {
   "cell_type": "code",
   "execution_count": 333,
   "metadata": {},
   "outputs": [],
   "source": [
    "x = torch.tensor(1.0, requires_grad=True)\n",
    "y = x**2+2*x"
   ]
  },
  {
   "cell_type": "markdown",
   "metadata": {},
   "source": [
    "逆伝搬しないと勾配計算されないようになっているので、勾配計算（微分計算）する際は基本的にbackward()→grad　する"
   ]
  },
  {
   "cell_type": "code",
   "execution_count": 334,
   "metadata": {},
   "outputs": [
    {
     "data": {
      "text/plain": [
       "tensor(4.)"
      ]
     },
     "execution_count": 334,
     "metadata": {},
     "output_type": "execute_result"
    }
   ],
   "source": [
    "y.backward()\n",
    "x.grad"
   ]
  },
  {
   "cell_type": "markdown",
   "metadata": {},
   "source": [
    "## y = wx+b を計算してみる"
   ]
  },
  {
   "cell_type": "markdown",
   "metadata": {},
   "source": [
    "- 入力データxを 100個の特徴量、100サンプル　とする（100,100）\n",
    "- y は各サンプルに対して、1次元の出力（要するに回帰の場合）を考える　（100,1）"
   ]
  },
  {
   "cell_type": "code",
   "execution_count": 335,
   "metadata": {},
   "outputs": [],
   "source": [
    "x = np.random.rand(100,100) \n",
    "w = nn.Linear(100,1)\n",
    "b = np.random.rand(100,1) \n",
    "x2 = Variable(torch.from_numpy(x).float(), requires_grad=True)"
   ]
  },
  {
   "cell_type": "code",
   "execution_count": 336,
   "metadata": {},
   "outputs": [],
   "source": [
    "f_x1 = w(x2)"
   ]
  },
  {
   "cell_type": "code",
   "execution_count": 337,
   "metadata": {},
   "outputs": [],
   "source": [
    "b2 = Variable(torch.from_numpy(b).float(), requires_grad=True)"
   ]
  },
  {
   "cell_type": "code",
   "execution_count": 338,
   "metadata": {},
   "outputs": [
    {
     "data": {
      "text/plain": [
       "tensor([[ 0.4672],\n",
       "        [ 0.7174],\n",
       "        [-0.0436],\n",
       "        [-0.0985],\n",
       "        [-0.3067],\n",
       "        [ 0.2836],\n",
       "        [ 0.9473],\n",
       "        [ 0.4071],\n",
       "        [ 0.5405],\n",
       "        [ 0.3711],\n",
       "        [ 0.7521],\n",
       "        [ 0.8186],\n",
       "        [ 0.4896],\n",
       "        [-0.0189],\n",
       "        [ 0.2833],\n",
       "        [ 0.2016],\n",
       "        [ 0.3963],\n",
       "        [ 0.9844],\n",
       "        [-0.2466],\n",
       "        [ 0.1372],\n",
       "        [ 0.8606],\n",
       "        [ 0.4006],\n",
       "        [ 0.3150],\n",
       "        [ 0.5781],\n",
       "        [ 0.3589],\n",
       "        [ 0.2105],\n",
       "        [-0.0752],\n",
       "        [ 0.4745],\n",
       "        [ 0.5520],\n",
       "        [ 0.2426],\n",
       "        [ 0.2094],\n",
       "        [ 0.0847],\n",
       "        [ 0.5125],\n",
       "        [ 0.4473],\n",
       "        [ 0.2524],\n",
       "        [ 0.1833],\n",
       "        [ 0.1161],\n",
       "        [ 0.2782],\n",
       "        [ 0.4692],\n",
       "        [ 0.0467],\n",
       "        [ 0.0755],\n",
       "        [-0.0610],\n",
       "        [ 0.3061],\n",
       "        [ 0.5607],\n",
       "        [ 1.0693],\n",
       "        [ 0.3070],\n",
       "        [ 0.4778],\n",
       "        [ 0.4194],\n",
       "        [ 0.8291],\n",
       "        [ 1.1097],\n",
       "        [ 0.4280],\n",
       "        [ 0.1455],\n",
       "        [ 0.3863],\n",
       "        [ 0.6701],\n",
       "        [ 0.2654],\n",
       "        [ 0.0328],\n",
       "        [ 0.4859],\n",
       "        [ 0.2223],\n",
       "        [ 0.1070],\n",
       "        [ 0.5373],\n",
       "        [ 0.6054],\n",
       "        [ 0.4777],\n",
       "        [ 0.0315],\n",
       "        [ 0.1692],\n",
       "        [ 0.4538],\n",
       "        [ 0.8116],\n",
       "        [ 0.3944],\n",
       "        [-0.0442],\n",
       "        [ 0.1744],\n",
       "        [ 0.1981],\n",
       "        [ 0.2622],\n",
       "        [ 0.2586],\n",
       "        [ 0.3775],\n",
       "        [ 0.3370],\n",
       "        [-0.3868],\n",
       "        [ 0.5670],\n",
       "        [ 0.9782],\n",
       "        [ 0.2941],\n",
       "        [ 0.2479],\n",
       "        [ 0.6242],\n",
       "        [ 0.7388],\n",
       "        [ 0.2139],\n",
       "        [ 0.1225],\n",
       "        [ 0.4276],\n",
       "        [ 0.5325],\n",
       "        [ 0.7090],\n",
       "        [ 0.0279],\n",
       "        [ 0.7907],\n",
       "        [ 0.2028],\n",
       "        [ 0.6878],\n",
       "        [ 0.7864],\n",
       "        [ 0.6284],\n",
       "        [ 0.2027],\n",
       "        [ 1.0923],\n",
       "        [ 0.8759],\n",
       "        [ 0.6794],\n",
       "        [ 0.8166],\n",
       "        [ 0.5619],\n",
       "        [-0.0210],\n",
       "        [ 0.6572]], grad_fn=<ThAddBackward>)"
      ]
     },
     "execution_count": 338,
     "metadata": {},
     "output_type": "execute_result"
    }
   ],
   "source": [
    "f_x1 + b2"
   ]
  },
  {
   "cell_type": "markdown",
   "metadata": {},
   "source": [
    "## ボストンハウス"
   ]
  },
  {
   "cell_type": "code",
   "execution_count": 339,
   "metadata": {},
   "outputs": [],
   "source": [
    "from torch.utils.data import TensorDataset, DataLoader \n",
    "from sklearn.model_selection import train_test_split\n",
    "from sklearn.preprocessing import StandardScaler\n",
    "\n",
    "boston = load_boston()\n",
    "x_data = np.array(boston.data)\n",
    "y_data = np.array(boston.target)\n",
    "\n",
    "x_train, x_test, y_train, y_test = train_test_split(x_data, y_data, test_size=0.3)\n",
    "\n",
    "scaler = StandardScaler()\n",
    "scaler.fit(x_train)\n",
    "x_train = scaler.transform(x_train)\n",
    "x_test = scaler.transform(x_test)\n",
    "\n",
    "x_train = torch.Tensor(x_train)\n",
    "x_test = torch.Tensor(x_test)\n",
    "y_train = torch.Tensor(y_train)\n",
    "y_test = torch.Tensor(y_test)\n",
    " \n",
    "#データとラベルをセットにしたDatasetを作成\n",
    "ds_train = TensorDataset(x_train, y_train)\n",
    "ds_test = TensorDataset(x_test, y_test)\n",
    " \n",
    "#データセットのミニバッチサイズを指定した、Dataloaderを作成\n",
    "# Chainerのiterators.SerialIteratorと似ている\n",
    "loader_train = DataLoader(ds_train, batch_size=32, shuffle=True)\n",
    "loader_test = DataLoader(ds_test, batch_size=32, shuffle=True)"
   ]
  },
  {
   "cell_type": "code",
   "execution_count": 340,
   "metadata": {},
   "outputs": [],
   "source": [
    "class Model(nn.Module):\n",
    "    def __init__(self):\n",
    "        super(Model, self).__init__()\n",
    "        self.fc1 = nn.Linear(13,1)\n",
    "        \n",
    "    def forward(self, x):\n",
    "        x = self.fc1(x)\n",
    "        return x"
   ]
  },
  {
   "cell_type": "markdown",
   "metadata": {},
   "source": [
    "- modelをインスタンス化\n",
    "- 損失関数の定義\n",
    "- 最適化手法の定義"
   ]
  },
  {
   "cell_type": "code",
   "execution_count": 341,
   "metadata": {},
   "outputs": [],
   "source": [
    "model = Model()\n",
    "criterion = nn.MSELoss()\n",
    "optimizer = optim.SGD(model.parameters(), lr=0.003)"
   ]
  },
  {
   "cell_type": "markdown",
   "metadata": {},
   "source": [
    "## 学習してみる"
   ]
  },
  {
   "cell_type": "code",
   "execution_count": 342,
   "metadata": {},
   "outputs": [],
   "source": [
    "num_epoch = 300 "
   ]
  },
  {
   "cell_type": "code",
   "execution_count": 343,
   "metadata": {},
   "outputs": [
    {
     "name": "stdout",
     "output_type": "stream",
     "text": [
      "[1,    10] loss: 605.214\n",
      "[2,    10] loss: 504.851\n",
      "[3,    10] loss: 448.767\n",
      "[4,    10] loss: 392.630\n",
      "[5,    10] loss: 335.170\n",
      "[6,    10] loss: 289.591\n",
      "[7,    10] loss: 256.405\n",
      "[8,    10] loss: 216.167\n",
      "[9,    10] loss: 185.805\n",
      "[10,    10] loss: 178.437\n",
      "[11,    10] loss: 147.937\n",
      "[12,    10] loss: 140.774\n",
      "[13,    10] loss: 125.124\n",
      "[14,    10] loss: 106.473\n",
      "[15,    10] loss: 101.861\n",
      "[16,    10] loss: 93.091\n",
      "[17,    10] loss: 79.935\n",
      "[18,    10] loss: 70.719\n",
      "[19,    10] loss: 68.511\n",
      "[20,    10] loss: 57.934\n",
      "[21,    10] loss: 57.096\n",
      "[22,    10] loss: 52.582\n",
      "[23,    10] loss: 50.526\n",
      "[24,    10] loss: 48.418\n",
      "[25,    10] loss: 45.422\n",
      "[26,    10] loss: 40.361\n",
      "[27,    10] loss: 37.016\n",
      "[28,    10] loss: 37.747\n",
      "[29,    10] loss: 37.487\n",
      "[30,    10] loss: 35.370\n",
      "[31,    10] loss: 32.108\n",
      "[32,    10] loss: 31.317\n",
      "[33,    10] loss: 31.574\n",
      "[34,    10] loss: 31.601\n",
      "[35,    10] loss: 27.346\n",
      "[36,    10] loss: 30.089\n",
      "[37,    10] loss: 30.058\n",
      "[38,    10] loss: 27.124\n",
      "[39,    10] loss: 27.842\n",
      "[40,    10] loss: 27.047\n",
      "[41,    10] loss: 28.095\n",
      "[42,    10] loss: 27.982\n",
      "[43,    10] loss: 25.674\n",
      "[44,    10] loss: 27.924\n",
      "[45,    10] loss: 27.033\n",
      "[46,    10] loss: 27.377\n",
      "[47,    10] loss: 23.671\n",
      "[48,    10] loss: 24.578\n",
      "[49,    10] loss: 26.975\n",
      "[50,    10] loss: 27.008\n",
      "[51,    10] loss: 27.199\n",
      "[52,    10] loss: 26.199\n",
      "[53,    10] loss: 23.749\n",
      "[54,    10] loss: 26.507\n",
      "[55,    10] loss: 21.655\n",
      "[56,    10] loss: 25.966\n",
      "[57,    10] loss: 26.162\n",
      "[58,    10] loss: 24.514\n",
      "[59,    10] loss: 25.955\n",
      "[60,    10] loss: 25.826\n",
      "[61,    10] loss: 26.261\n",
      "[62,    10] loss: 24.922\n",
      "[63,    10] loss: 23.091\n",
      "[64,    10] loss: 26.251\n",
      "[65,    10] loss: 23.962\n",
      "[66,    10] loss: 24.869\n",
      "[67,    10] loss: 25.616\n",
      "[68,    10] loss: 25.943\n",
      "[69,    10] loss: 23.573\n",
      "[70,    10] loss: 25.174\n",
      "[71,    10] loss: 26.645\n",
      "[72,    10] loss: 23.789\n",
      "[73,    10] loss: 26.311\n",
      "[74,    10] loss: 25.727\n",
      "[75,    10] loss: 22.577\n",
      "[76,    10] loss: 23.631\n",
      "[77,    10] loss: 26.251\n",
      "[78,    10] loss: 23.636\n",
      "[79,    10] loss: 24.529\n",
      "[80,    10] loss: 25.886\n",
      "[81,    10] loss: 23.419\n",
      "[82,    10] loss: 25.214\n",
      "[83,    10] loss: 25.262\n",
      "[84,    10] loss: 26.141\n",
      "[85,    10] loss: 25.085\n",
      "[86,    10] loss: 24.736\n",
      "[87,    10] loss: 25.378\n",
      "[88,    10] loss: 22.706\n",
      "[89,    10] loss: 25.150\n",
      "[90,    10] loss: 25.163\n",
      "[91,    10] loss: 24.560\n",
      "[92,    10] loss: 25.665\n",
      "[93,    10] loss: 23.997\n",
      "[94,    10] loss: 23.461\n",
      "[95,    10] loss: 24.815\n",
      "[96,    10] loss: 24.963\n",
      "[97,    10] loss: 22.713\n",
      "[98,    10] loss: 25.629\n",
      "[99,    10] loss: 20.144\n",
      "[100,    10] loss: 25.429\n",
      "[101,    10] loss: 23.831\n",
      "[102,    10] loss: 21.887\n",
      "[103,    10] loss: 25.259\n",
      "[104,    10] loss: 24.887\n",
      "[105,    10] loss: 24.100\n",
      "[106,    10] loss: 24.191\n",
      "[107,    10] loss: 23.582\n",
      "[108,    10] loss: 24.855\n",
      "[109,    10] loss: 24.532\n",
      "[110,    10] loss: 25.441\n",
      "[111,    10] loss: 21.697\n",
      "[112,    10] loss: 23.602\n",
      "[113,    10] loss: 24.779\n",
      "[114,    10] loss: 25.324\n",
      "[115,    10] loss: 24.289\n",
      "[116,    10] loss: 23.760\n",
      "[117,    10] loss: 22.895\n",
      "[118,    10] loss: 23.261\n",
      "[119,    10] loss: 25.357\n",
      "[120,    10] loss: 25.313\n",
      "[121,    10] loss: 25.078\n",
      "[122,    10] loss: 25.502\n",
      "[123,    10] loss: 25.839\n",
      "[124,    10] loss: 25.080\n",
      "[125,    10] loss: 24.773\n",
      "[126,    10] loss: 24.972\n",
      "[127,    10] loss: 23.657\n",
      "[128,    10] loss: 23.377\n",
      "[129,    10] loss: 25.261\n",
      "[130,    10] loss: 24.824\n",
      "[131,    10] loss: 22.529\n",
      "[132,    10] loss: 23.793\n",
      "[133,    10] loss: 25.400\n",
      "[134,    10] loss: 24.705\n",
      "[135,    10] loss: 23.227\n",
      "[136,    10] loss: 26.106\n",
      "[137,    10] loss: 25.582\n",
      "[138,    10] loss: 25.314\n",
      "[139,    10] loss: 25.455\n",
      "[140,    10] loss: 25.274\n",
      "[141,    10] loss: 24.703\n",
      "[142,    10] loss: 25.728\n",
      "[143,    10] loss: 25.248\n",
      "[144,    10] loss: 24.263\n",
      "[145,    10] loss: 25.179\n",
      "[146,    10] loss: 24.623\n",
      "[147,    10] loss: 25.629\n",
      "[148,    10] loss: 24.856\n",
      "[149,    10] loss: 22.542\n",
      "[150,    10] loss: 20.594\n",
      "[151,    10] loss: 25.224\n",
      "[152,    10] loss: 26.106\n",
      "[153,    10] loss: 23.799\n",
      "[154,    10] loss: 25.059\n",
      "[155,    10] loss: 22.620\n",
      "[156,    10] loss: 24.568\n",
      "[157,    10] loss: 24.791\n",
      "[158,    10] loss: 24.348\n",
      "[159,    10] loss: 23.271\n",
      "[160,    10] loss: 24.600\n",
      "[161,    10] loss: 24.415\n",
      "[162,    10] loss: 22.061\n",
      "[163,    10] loss: 23.718\n",
      "[164,    10] loss: 24.731\n",
      "[165,    10] loss: 23.115\n",
      "[166,    10] loss: 25.922\n",
      "[167,    10] loss: 24.958\n",
      "[168,    10] loss: 24.935\n",
      "[169,    10] loss: 24.877\n",
      "[170,    10] loss: 25.348\n",
      "[171,    10] loss: 25.830\n",
      "[172,    10] loss: 23.697\n",
      "[173,    10] loss: 24.339\n",
      "[174,    10] loss: 21.495\n",
      "[175,    10] loss: 24.161\n",
      "[176,    10] loss: 26.017\n",
      "[177,    10] loss: 24.699\n",
      "[178,    10] loss: 24.044\n",
      "[179,    10] loss: 21.861\n",
      "[180,    10] loss: 24.772\n",
      "[181,    10] loss: 23.356\n",
      "[182,    10] loss: 25.265\n",
      "[183,    10] loss: 24.075\n",
      "[184,    10] loss: 24.676\n",
      "[185,    10] loss: 25.207\n",
      "[186,    10] loss: 24.087\n",
      "[187,    10] loss: 24.471\n",
      "[188,    10] loss: 23.976\n",
      "[189,    10] loss: 23.493\n",
      "[190,    10] loss: 25.678\n",
      "[191,    10] loss: 24.890\n",
      "[192,    10] loss: 24.880\n",
      "[193,    10] loss: 24.380\n",
      "[194,    10] loss: 24.815\n",
      "[195,    10] loss: 25.286\n",
      "[196,    10] loss: 23.797\n",
      "[197,    10] loss: 24.615\n",
      "[198,    10] loss: 24.106\n",
      "[199,    10] loss: 22.920\n",
      "[200,    10] loss: 22.878\n",
      "[201,    10] loss: 24.668\n",
      "[202,    10] loss: 25.139\n",
      "[203,    10] loss: 25.061\n",
      "[204,    10] loss: 24.825\n",
      "[205,    10] loss: 23.076\n",
      "[206,    10] loss: 23.255\n",
      "[207,    10] loss: 24.478\n",
      "[208,    10] loss: 23.918\n",
      "[209,    10] loss: 23.031\n",
      "[210,    10] loss: 24.747\n",
      "[211,    10] loss: 25.189\n",
      "[212,    10] loss: 24.060\n",
      "[213,    10] loss: 24.698\n",
      "[214,    10] loss: 24.993\n",
      "[215,    10] loss: 24.211\n",
      "[216,    10] loss: 24.576\n",
      "[217,    10] loss: 21.635\n",
      "[218,    10] loss: 25.227\n",
      "[219,    10] loss: 25.387\n",
      "[220,    10] loss: 24.313\n",
      "[221,    10] loss: 23.811\n",
      "[222,    10] loss: 24.954\n",
      "[223,    10] loss: 24.439\n",
      "[224,    10] loss: 24.118\n",
      "[225,    10] loss: 22.705\n",
      "[226,    10] loss: 25.451\n",
      "[227,    10] loss: 24.812\n",
      "[228,    10] loss: 25.365\n",
      "[229,    10] loss: 24.971\n",
      "[230,    10] loss: 24.433\n",
      "[231,    10] loss: 24.077\n",
      "[232,    10] loss: 24.284\n",
      "[233,    10] loss: 25.053\n",
      "[234,    10] loss: 23.951\n",
      "[235,    10] loss: 22.582\n",
      "[236,    10] loss: 24.035\n",
      "[237,    10] loss: 23.885\n",
      "[238,    10] loss: 24.625\n",
      "[239,    10] loss: 24.652\n",
      "[240,    10] loss: 22.928\n",
      "[241,    10] loss: 24.491\n",
      "[242,    10] loss: 25.249\n",
      "[243,    10] loss: 24.575\n",
      "[244,    10] loss: 24.009\n",
      "[245,    10] loss: 25.162\n",
      "[246,    10] loss: 25.191\n",
      "[247,    10] loss: 24.524\n",
      "[248,    10] loss: 22.597\n",
      "[249,    10] loss: 25.298\n",
      "[250,    10] loss: 24.750\n",
      "[251,    10] loss: 25.427\n",
      "[252,    10] loss: 24.143\n",
      "[253,    10] loss: 21.903\n",
      "[254,    10] loss: 24.677\n",
      "[255,    10] loss: 22.383\n",
      "[256,    10] loss: 25.317\n",
      "[257,    10] loss: 25.193\n",
      "[258,    10] loss: 24.466\n",
      "[259,    10] loss: 24.403\n",
      "[260,    10] loss: 23.585\n",
      "[261,    10] loss: 24.417\n",
      "[262,    10] loss: 23.494\n",
      "[263,    10] loss: 25.013\n",
      "[264,    10] loss: 19.752\n",
      "[265,    10] loss: 24.241\n",
      "[266,    10] loss: 24.318\n",
      "[267,    10] loss: 24.240\n",
      "[268,    10] loss: 21.847\n",
      "[269,    10] loss: 24.086\n",
      "[270,    10] loss: 23.379\n",
      "[271,    10] loss: 23.414\n",
      "[272,    10] loss: 24.584\n",
      "[273,    10] loss: 22.652\n",
      "[274,    10] loss: 22.184\n",
      "[275,    10] loss: 23.323\n",
      "[276,    10] loss: 25.185\n",
      "[277,    10] loss: 24.590\n",
      "[278,    10] loss: 25.238\n",
      "[279,    10] loss: 24.757\n",
      "[280,    10] loss: 20.726\n",
      "[281,    10] loss: 24.568\n",
      "[282,    10] loss: 24.764\n",
      "[283,    10] loss: 25.447\n",
      "[284,    10] loss: 24.970\n",
      "[285,    10] loss: 24.314\n",
      "[286,    10] loss: 24.702\n",
      "[287,    10] loss: 24.223\n",
      "[288,    10] loss: 24.473\n",
      "[289,    10] loss: 23.873\n",
      "[290,    10] loss: 25.124\n",
      "[291,    10] loss: 23.269\n",
      "[292,    10] loss: 25.449\n",
      "[293,    10] loss: 24.493\n",
      "[294,    10] loss: 24.530\n",
      "[295,    10] loss: 25.106\n",
      "[296,    10] loss: 25.051\n",
      "[297,    10] loss: 23.136\n",
      "[298,    10] loss: 25.474\n",
      "[299,    10] loss: 23.340\n",
      "[300,    10] loss: 24.260\n"
     ]
    }
   ],
   "source": [
    "loss_list = []\n",
    "for epoch in range(num_epoch):  \n",
    "    #データ全てのトータルロス\n",
    "    running_loss = 0.0 \n",
    "    for i, data in enumerate(loader_train):\n",
    "        #入力データ・ラベルに分割\n",
    "        # get the inputs\n",
    "        inputs, labels = data\n",
    "        # Variableに変形\n",
    "        inputs, labels = Variable(inputs), Variable(labels)\n",
    "        # optimizerの初期化\n",
    "        optimizer.zero_grad()\n",
    "\n",
    "        #一連の流れ\n",
    "        outputs = model(inputs)\n",
    "\n",
    "        out = outputs.view(-1, 1)\n",
    "        labels = labels.view(-1, 1)\n",
    "        loss = criterion(outputs, labels) \n",
    "        loss.backward()\n",
    "        optimizer.step()\n",
    "\n",
    "        # ロスの表示\n",
    "        running_loss += loss.item()\n",
    "        \n",
    "        # 20ミニバッチごとにロスの表示\n",
    "        if i % 10 == 9:    \n",
    "            print('[%d, %5d] loss: %.3f' %\n",
    "                 (epoch + 1, i + 1, running_loss / 10))\n",
    "            loss_list.append(running_loss)\n",
    "            running_loss = 0.0\n",
    "            "
   ]
  },
  {
   "cell_type": "code",
   "execution_count": 344,
   "metadata": {},
   "outputs": [
    {
     "data": {
      "image/png": "[encoded data removed]",
      "text/plain": [
       "<matplotlib.figure.Figure at 0x12b4c47b8>"
      ]
     },
     "metadata": {},
     "output_type": "display_data"
    }
   ],
   "source": [
    "plt.plot(loss_list)\n",
    "plt.show()"
   ]
  },
  {
   "cell_type": "markdown",
   "metadata": {},
   "source": [
    "## 推定してみる"
   ]
  },
  {
   "cell_type": "code",
   "execution_count": 345,
   "metadata": {},
   "outputs": [],
   "source": [
    "pred = model(x_test)\n",
    "pred2 = pred.reshape(-1).tolist()"
   ]
  },
  {
   "cell_type": "markdown",
   "metadata": {},
   "source": [
    "## 推定結果に対する考察"
   ]
  },
  {
   "cell_type": "code",
   "execution_count": 346,
   "metadata": {},
   "outputs": [
    {
     "data": {
      "image/png": "[encoded data removed]",
      "text/plain": [
       "<matplotlib.figure.Figure at 0x12b4c4048>"
      ]
     },
     "metadata": {},
     "output_type": "display_data"
    }
   ],
   "source": [
    "plt.hist(y_test, bins = 40 , color = \"r\")\n",
    "plt.hist(pred2, bins = 40, color = \"b\")\n",
    "plt.show()"
   ]
  },
  {
   "cell_type": "code",
   "execution_count": 347,
   "metadata": {},
   "outputs": [
    {
     "data": {
      "image/png": "[encoded data removed]",
      "text/plain": [
       "<matplotlib.figure.Figure at 0x12b37c470>"
      ]
     },
     "metadata": {},
     "output_type": "display_data"
    }
   ],
   "source": [
    "x = np.arange(1,50)\n",
    "y = x\n",
    "plt.figure(figsize=(4, 4))\n",
    "plt.scatter(y_test, pred2)\n",
    "plt.plot(x,y)\n",
    "plt.show()"
   ]
  },
  {
   "cell_type": "markdown",
   "metadata": {},
   "source": [
    "線形モデルなので、データの分布は正規分布になる。正規分布から外れているサンプル（上図の端）では、当てはまりの悪いモデルになっている。"
   ]
  },
  {
   "cell_type": "code",
   "execution_count": null,
   "metadata": {},
   "outputs": [],
   "source": []
  }
 ],
 "metadata": {
  "kernelspec": {
   "display_name": "Python 3",
   "language": "python",
   "name": "python3"
  },
  "language_info": {
   "codemirror_mode": {
    "name": "ipython",
    "version": 3
   },
   "file_extension": ".py",
   "mimetype": "text/x-python",
   "name": "python",
   "nbconvert_exporter": "python",
   "pygments_lexer": "ipython3",
   "version": "3.6.3"
  }
 },
 "nbformat": 4,
 "nbformat_minor": 2
}
