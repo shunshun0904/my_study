{
 "cells": [
  {
   "cell_type": "code",
   "execution_count": 7,
   "metadata": {},
   "outputs": [],
   "source": [
    "# -*- coding: utf-8 -*-\n",
    "import numpy as np\n",
    "import cv2\n",
    "\n",
    "def highpass_filter(src, a = 0.1):\n",
    "    # 高速フーリエ変換(2次元)\n",
    "    src = np.fft.fft2(src)\n",
    "    \n",
    "    # 画像サイズ\n",
    "    h, w = src.shape\n",
    "   \n",
    "    # 画像の中心座標\n",
    "    cy, cx =  int(h/2), int(w/2)\n",
    "    \n",
    "    # フィルタのサイズ(矩形の高さと幅)\n",
    "    rh, rw = int(a*cy), int(a*cx)\n",
    "\n",
    "    # 第1象限と第3象限、第1象限と第4象限を入れ替え\n",
    "    fsrc =  np.fft.fftshift(src)  \n",
    "\n",
    "    # 入力画像と同じサイズで値0の配列を生成\n",
    "    fdst = fsrc.copy()\n",
    "\n",
    "    # 中心部分だけ0を代入（中心部分以外は元のまま）\n",
    "    fdst[cy-rh:cy+rh, cx-rw:cx+rw] = 0\n",
    "    \n",
    "    # 第1象限と第3象限、第1象限と第4象限を入れ替え(元に戻す)\n",
    "    fdst =  np.fft.fftshift(fdst)\n",
    "\n",
    "    # 高速逆フーリエ変換 \n",
    "    dst = np.fft.ifft2(fdst)\n",
    "   \n",
    "    # 実部の値のみを取り出し、符号なし整数型に変換して返す\n",
    "    return  np.uint8(dst.real)\n",
    "    \n",
    "\n",
    "def main():\n",
    "    # 入力画像を読み込み\n",
    "    img = cv2.imread(\"17743_right.jpeg\")\n",
    "\n",
    "    # グレースケール変換\n",
    "    gray = cv2.cvtColor(img, cv2.COLOR_RGB2GRAY)\n",
    "\n",
    "    # ハイパスフィルタ処理\n",
    "    himg = highpass_filter(gray, 0.8)\n",
    "\n",
    "    # 結果をグラフに出力\n",
    "    cv2.imwrite(\"output.png\", himg)\n",
    "\n",
    "if __name__ == \"__main__\":\n",
    "    main()"
   ]
  },
  {
   "cell_type": "code",
   "execution_count": 23,
   "metadata": {},
   "outputs": [],
   "source": [
    "from PIL import Image,  ImageFilter\n",
    " \n",
    "img = Image.open('17767_right.jpeg')\n",
    "# HPF (1-5x5LPF)\n",
    "flist = [-1, -1, -1, -1, -1,\n",
    "         -1, -1, -1, -1, -1,\n",
    "         -1, -1,24, -1, -1,\n",
    "         -1, -1, -1, -1, -1,\n",
    "         -1, -1, -1, -1, -1]\n",
    "flt = ImageFilter.Kernel((5,5), flist, offset=12)\n",
    "imgx = img.filter(flt)\n",
    "imgx.save('hanten.jpg')"
   ]
  },
  {
   "cell_type": "code",
   "execution_count": null,
   "metadata": {},
   "outputs": [],
   "source": []
  }
 ],
 "metadata": {
  "kernelspec": {
   "display_name": "Python 3",
   "language": "python",
   "name": "python3"
  },
  "language_info": {
   "codemirror_mode": {
    "name": "ipython",
    "version": 3
   },
   "file_extension": ".py",
   "mimetype": "text/x-python",
   "name": "python",
   "nbconvert_exporter": "python",
   "pygments_lexer": "ipython3",
   "version": "3.6.3"
  }
 },
 "nbformat": 4,
 "nbformat_minor": 2
}
