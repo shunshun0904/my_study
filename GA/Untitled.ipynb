{
 "cells": [
  {
   "cell_type": "code",
   "execution_count": 22,
   "metadata": {},
   "outputs": [],
   "source": [
    "import numpy as np\n",
    "import matplotlib.pyplot as plt "
   ]
  },
  {
   "cell_type": "code",
   "execution_count": 27,
   "metadata": {},
   "outputs": [],
   "source": [
    "MUTATION_RATE = 0.003\n",
    "CROSS_RATE = 0.8\n",
    "POP_SIZE = 100\n",
    "DNA_SIZE = 10\n",
    "X_BOUND = [0,5]\n",
    "N_GENERATION = 100"
   ]
  },
  {
   "cell_type": "code",
   "execution_count": 28,
   "metadata": {},
   "outputs": [],
   "source": [
    "def F(x): \n",
    "    return np.sin(10*x)*x + np.cos(2*x)*x     \n",
    "\n",
    "def get_fitness(pred): \n",
    "    return pred + 1e-3 - np.min(pred)\n",
    "\n",
    "def translateDNA(pop):\n",
    "    return pop.dot(2 ** np.arange(DNA_SIZE)[::-1]) / float(2**DNA_SIZE-1) * X_BOUND[1]\n",
    "\n",
    "def select(pop, fitness):    # nature selection wrt pop's fitness\n",
    "    idx = np.random.choice(np.arange(POP_SIZE), size=POP_SIZE, replace=True,\n",
    "                           p=fitness/fitness.sum())\n",
    "    return pop[idx]\n",
    "\n",
    "def crossover(parent, pop):     # mating process (genes crossover)\n",
    "    if np.random.rand() < CROSS_RATE:\n",
    "        i_ = np.random.randint(0, POP_SIZE, size=1)                             # select another individual from pop\n",
    "        cross_points = np.random.randint(0, 2, size=DNA_SIZE).astype(np.bool)   # choose crossover points\n",
    "        parent[cross_points] = pop[i_, cross_points]                            # mating and produce one child\n",
    "    return parent\n",
    "\n",
    "def mutate(child):\n",
    "    for point in range(DNA_SIZE):\n",
    "        if np.random.rand() < MUTATION_RATE:\n",
    "            child[point] = 1 if child[point] == 0 else 0\n",
    "    return child"
   ]
  },
  {
   "cell_type": "code",
   "execution_count": 29,
   "metadata": {},
   "outputs": [
    {
     "data": {
      "image/png": "[encoded data removed]",
      "text/plain": [
       "<matplotlib.figure.Figure at 0x10c1cd978>"
      ]
     },
     "metadata": {},
     "output_type": "display_data"
    }
   ],
   "source": [
    "pop = np.random.randint(2, size =(POP_SIZE ,DNA_SIZE))\n",
    "plt.ion\n",
    "\n",
    "for i in range(N_GENERATION):\n",
    "    x = np.linspace(*X_BOUND, 200)\n",
    "    plt.plot(x, F(x))\n",
    "    \n",
    "    F_values = F(translateDNA(pop))\n",
    "    fitness = get_fitness(F_values)\n",
    "    choice = select(pop,fitness)\n",
    "    pop_copy = pop.copy\n",
    "    \n",
    "    for parent in choice :\n",
    "        child = crossover(parent,choice)\n",
    "        child = mutate(child)\n",
    "        parent[:] = child \n",
    "    \n",
    "plt.ioff(); plt.show()    "
   ]
  },
  {
   "cell_type": "code",
   "execution_count": null,
   "metadata": {},
   "outputs": [],
   "source": []
  }
 ],
 "metadata": {
  "kernelspec": {
   "display_name": "Python 3",
   "language": "python",
   "name": "python3"
  },
  "language_info": {
   "codemirror_mode": {
    "name": "ipython",
    "version": 3
   },
   "file_extension": ".py",
   "mimetype": "text/x-python",
   "name": "python",
   "nbconvert_exporter": "python",
   "pygments_lexer": "ipython3",
   "version": "3.6.3"
  }
 },
 "nbformat": 4,
 "nbformat_minor": 2
}
