{
 "cells": [
  {
   "cell_type": "markdown",
   "metadata": {},
   "source": [
    "## 迷路をエージェントがランダムに進み、ゴールまでたどり着く実装"
   ]
  },
  {
   "cell_type": "code",
   "execution_count": 38,
   "metadata": {},
   "outputs": [],
   "source": [
    "import numpy as np\n",
    "import pandas as pd\n",
    "import matplotlib.pyplot as plt"
   ]
  },
  {
   "cell_type": "code",
   "execution_count": 39,
   "metadata": {},
   "outputs": [],
   "source": [
    "# 列は移動方向「上、右、下、左」\n",
    "theta_0 = np.array([[np.nan, 1, 1, np.nan],\n",
    "                    [np.nan, 1, np.nan, 1],\n",
    "                    [np.nan,np.nan, 1, 1],\n",
    "                    [1, 1, 1, np.nan],\n",
    "                    [np.nan,np.nan, 1, 1],\n",
    "                    [1, np.nan, np.nan, np.nan],\n",
    "                    [1, np.nan, np.nan, np.nan],\n",
    "                    [1, 1, np.nan, np.nan],\n",
    "                    ])"
   ]
  },
  {
   "cell_type": "code",
   "execution_count": null,
   "metadata": {},
   "outputs": [],
   "source": [
    "theta = theta - alpha*delata"
   ]
  },
  {
   "cell_type": "code",
   "execution_count": null,
   "metadata": {},
   "outputs": [],
   "source": [
    "\n",
    "delata = (N-0.25*N)/T"
   ]
  },
  {
   "cell_type": "code",
   "execution_count": 40,
   "metadata": {},
   "outputs": [],
   "source": [
    "def simple_convert_into_pi_from_theta(theta):\n",
    "    [m,n] = theta.shape\n",
    "    pi = np.zeros((m,n))\n",
    "    for i in range(0,m):\n",
    "        pi[i,:] = theta[i,:]/np.nansum(theta[i,:])\n",
    "    pi = np.nan_to_num(pi)\n",
    "    return pi"
   ]
  },
  {
   "cell_type": "code",
   "execution_count": 41,
   "metadata": {},
   "outputs": [],
   "source": [
    "pi_0 = simple_convert_into_pi_from_theta(theta_0)"
   ]
  },
  {
   "cell_type": "code",
   "execution_count": 42,
   "metadata": {},
   "outputs": [],
   "source": [
    "def get_next_s(pi,s):\n",
    "    direction = [\"up\", \"right\", \"down\", \"left\"]\n",
    "    next_direction = np.random.choice(direction, p=pi[s,:])   \n",
    "    if next_direction == \"up\":\n",
    "        s_next = s-3\n",
    "    elif next_direction == \"right\":\n",
    "        s_next = s+1\n",
    "    elif next_direction == \"down\":\n",
    "        s_next = s+3\n",
    "    elif next_direction == \"left\":\n",
    "        s_next = s-1\n",
    "    return s_next"
   ]
  },
  {
   "cell_type": "code",
   "execution_count": 43,
   "metadata": {},
   "outputs": [],
   "source": [
    "#迷路内をエージェントがゴールするまで移動させる関数の定義\n",
    "\n",
    "def goal_maze(pi):\n",
    "    s = 0\n",
    "    state_history = []\n",
    "    \n",
    "    while True:\n",
    "        next_s = get_next_s(pi,s)\n",
    "        state_history.append(next_s)\n",
    "        if next_s == 8:\n",
    "            break\n",
    "        else:\n",
    "            s = next_s\n",
    "    #print(\"ステップ数：\", len(state_history))\n",
    "    return state_history\n"
   ]
  },
  {
   "cell_type": "code",
   "execution_count": 44,
   "metadata": {},
   "outputs": [
    {
     "data": {
      "text/plain": [
       "40.08"
      ]
     },
     "execution_count": 44,
     "metadata": {},
     "output_type": "execute_result"
    }
   ],
   "source": [
    "mean"
   ]
  },
  {
   "cell_type": "code",
   "execution_count": 45,
   "metadata": {},
   "outputs": [
    {
     "data": {
      "image/png": "[encoded data removed]",
      "text/plain": [
       "<matplotlib.figure.Figure at 0x119e7a6a0>"
      ]
     },
     "metadata": {},
     "output_type": "display_data"
    }
   ],
   "source": [
    "num_steps = []\n",
    "for i in range(100):\n",
    "    num_steps.append(len(goal_maze(pi_0)))\n",
    "    \n",
    "mean = sum(num_steps)/len(num_steps)\n",
    "plt.plot(num_steps)\n",
    "plt.plot(mean, color=\"red\")\n",
    "plt.show()"
   ]
  },
  {
   "cell_type": "markdown",
   "metadata": {},
   "source": [
    "## 方策反復法の実装\n",
    "\n",
    "- 色々ゴールまでたどり着くパターンを試し、その中でも何らかの基準に基づいた移動経路に対して、うまく行った経路の行動を重要視する手法。対になる手法としては、価値反復法がある\n",
    "- 選択しが無数にある場合には、価値を最大にする行動を選択するだけでも計算時間がかかる。したがって、ロボット制御のように行動空間が連続の場合や多変数の場合には方策ベースの手法が使われる。"
   ]
  },
  {
   "cell_type": "markdown",
   "metadata": {},
   "source": [
    "方策勾配法の方策勾配の近似式がよくわからん。これからの強化学習を見てもよくわからん。"
   ]
  },
  {
   "cell_type": "code",
   "execution_count": null,
   "metadata": {},
   "outputs": [],
   "source": []
  }
 ],
 "metadata": {
  "kernelspec": {
   "display_name": "Python 3",
   "language": "python",
   "name": "python3"
  },
  "language_info": {
   "codemirror_mode": {
    "name": "ipython",
    "version": 3
   },
   "file_extension": ".py",
   "mimetype": "text/x-python",
   "name": "python",
   "nbconvert_exporter": "python",
   "pygments_lexer": "ipython3",
   "version": "3.6.3"
  }
 },
 "nbformat": 4,
 "nbformat_minor": 2
}
