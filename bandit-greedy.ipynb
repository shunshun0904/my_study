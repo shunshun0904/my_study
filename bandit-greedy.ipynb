{
 "cells": [
  {
   "cell_type": "code",
   "execution_count": 31,
   "metadata": {},
   "outputs": [],
   "source": [
    "import numpy as np\n",
    "import matplotlib.pyplot as plt\n",
    "import random\n",
    "from statistics import mean, median,variance,stdev\n",
    "%matplotlib inline"
   ]
  },
  {
   "cell_type": "code",
   "execution_count": 32,
   "metadata": {
    "code_folding": []
   },
   "outputs": [],
   "source": [
    "arm_list = [0.1,0.11,0.111,0.1111,0.9]\n",
    "epsilon = 0.1\n",
    "ave_reward_hist = []\n",
    "count_list = [1 for x in range(5)]\n",
    "hit_list = [0 for x in range(5)]\n",
    "reward = 0\n",
    "\n",
    "\n",
    "for i in range (250):    \n",
    "    for j in range(20):\n",
    "        god = np.random.rand()\n",
    "        if epsilon < god:\n",
    "            coin = np.random.rand()\n",
    "            if j == 0:\n",
    "                coin_prob = np.random.choice(arm_list)\n",
    "                arm_index = arm_list.index(coin_prob)      \n",
    "                count_list[arm_index] += 1\n",
    "                if coin_prob > coin :\n",
    "                    hit_list[arm_index] += 1\n",
    "                    reward += 1\n",
    "                                   \n",
    "            else:\n",
    "                expect = [y/x for (x, y) in zip(count_list, hit_list)]\n",
    "                count_list[expect.index(max(expect))] += 1 \n",
    "                if arm_list[expect.index(max(expect))] > coin :      \n",
    "                    hit_list[expect.index(max(expect))] += 1\n",
    "                    reward += 1\n",
    "                  \n",
    "        if epsilon >= god:\n",
    "            coin = np.random.rand()\n",
    "            coin_prob = np.random.choice(arm_list)\n",
    "            arm_index = arm_list.index(coin_prob)      \n",
    "            count_list[arm_index] += 1\n",
    "            if coin_prob > coin :\n",
    "                hit_list[arm_index] += 1\n",
    "                reward += 1\n",
    "                \n",
    "        \n",
    "    ave_reward_hist.append(count_list[4]/sum(count_list))"
   ]
  },
  {
   "cell_type": "code",
   "execution_count": 33,
   "metadata": {},
   "outputs": [
    {
     "data": {
      "text/plain": [
       "[<matplotlib.lines.Line2D at 0x10f611978>]"
      ]
     },
     "execution_count": 33,
     "metadata": {},
     "output_type": "execute_result"
    },
    {
     "data": {
      "image/png": "[encoded data removed]",
      "text/plain": [
       "<matplotlib.figure.Figure at 0x10f5904a8>"
      ]
     },
     "metadata": {},
     "output_type": "display_data"
    }
   ],
   "source": [
    "plt.plot(ave_reward_hist)"
   ]
  },
  {
   "cell_type": "markdown",
   "metadata": {},
   "source": [
    "## リファクタリング"
   ]
  },
  {
   "cell_type": "code",
   "execution_count": 84,
   "metadata": {},
   "outputs": [],
   "source": [
    "class Bandit():\n",
    "    def __init__(self):\n",
    "        self.count_list=[1 for x in range(5)]\n",
    "        self.hit_list = [0 for x in range(5)]\n",
    "        self.reward = 0\n",
    "        self.arm_list = [0.1,0.11,0.111,0.1111,0.9]\n",
    "        self.ave_reward_hist = []\n",
    "        self.loop = 20\n",
    "        self.time = 250\n",
    " \n",
    "    def arm_choice(self):\n",
    "        coin_prob = np.random.choice(self.arm_list)\n",
    "        arm_index = self.arm_list.index(coin_prob)      \n",
    "        self.count_list[arm_index] += 1\n",
    "        return coin_prob,  arm_index, self.count_list\n",
    "           \n",
    "    def select_compute(self, epsilon):    \n",
    "        for i in range (self.time):    \n",
    "            for j in range(self.loop):\n",
    "                god = np.random.rand()\n",
    "                if epsilon < god:\n",
    "                    coin = np.random.rand()\n",
    "                    if j == 0:\n",
    "                        coin_prob,  arm_index, self.count_list = self.arm_choice()\n",
    "                        if coin_prob > coin :\n",
    "                            self.hit_list[arm_index] += 1\n",
    "                            self.reward += 1\n",
    "                    else:\n",
    "                        expect = [y/x for (x, y) in zip(self.count_list, self.hit_list)]\n",
    "                        self.count_list[expect.index(max(expect))] += 1 \n",
    "                        if self.arm_list[expect.index(max(expect))] > coin :      \n",
    "                            self.hit_list[expect.index(max(expect))] += 1\n",
    "                            self.reward += 1\n",
    "\n",
    "                if epsilon >= god:\n",
    "                    coin = np.random.rand()\n",
    "                    coin_prob,  arm_index, self.count_list =self.arm_choice()\n",
    "                    if coin_prob > coin :\n",
    "                        self.hit_list[arm_index] += 1\n",
    "                        self.reward += 1\n",
    "            self.ave_reward_hist.append(self.count_list[4]/sum(self.count_list))\n",
    "        return self.ave_reward_hist\n",
    "    \n",
    "def epsilon_other(epsilon):\n",
    "    for i in epsilon:\n",
    "        bandit = Bandit()\n",
    "        plt.plot(bandit.select_compute(i), label=\"epsilon-{}\".format(i))\n",
    "        plt.legend()\n",
    "    return plt.show()"
   ]
  },
  {
   "cell_type": "code",
   "execution_count": 85,
   "metadata": {},
   "outputs": [
    {
     "data": {
      "image/png": "[encoded data removed]",
      "text/plain": [
       "<matplotlib.figure.Figure at 0x10fc72978>"
      ]
     },
     "metadata": {},
     "output_type": "display_data"
    }
   ],
   "source": [
    "if __name__ == '__main__':\n",
    "    epsilon_other([0.1,0.2,0.3,0.4,0.5])"
   ]
  },
  {
   "cell_type": "code",
   "execution_count": null,
   "metadata": {},
   "outputs": [],
   "source": []
  }
 ],
 "metadata": {
  "kernelspec": {
   "display_name": "Python 3",
   "language": "python",
   "name": "python3"
  },
  "language_info": {
   "codemirror_mode": {
    "name": "ipython",
    "version": 3
   },
   "file_extension": ".py",
   "mimetype": "text/x-python",
   "name": "python",
   "nbconvert_exporter": "python",
   "pygments_lexer": "ipython3",
   "version": "3.6.3"
  },
  "toc": {
   "base_numbering": 1,
   "nav_menu": {},
   "number_sections": true,
   "sideBar": true,
   "skip_h1_title": false,
   "title_cell": "Table of Contents",
   "title_sidebar": "Contents",
   "toc_cell": false,
   "toc_position": {},
   "toc_section_display": true,
   "toc_window_display": false
  }
 },
 "nbformat": 4,
 "nbformat_minor": 2
}
