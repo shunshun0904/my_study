{
 "cells": [
  {
   "cell_type": "code",
   "execution_count": 1,
   "metadata": {},
   "outputs": [],
   "source": [
    "import numpy as np\n",
    "import matplotlib.pyplot as plt\n",
    "import pandas as pd\n",
    "\n",
    "data_train = pd.read_csv(\"7203_2017.csv\", encoding=\"shift-jis\")\n",
    "data_train_reset = data_train.iloc[1:,0:1].reset_index(drop=True)\n",
    "train = data_train_reset.reset_index()"
   ]
  },
  {
   "cell_type": "code",
   "execution_count": 2,
   "metadata": {},
   "outputs": [],
   "source": [
    "y_train = train['7203 東証1部 トヨタ自動車(株)（輸送用機器）'].values\n",
    "y_train = y_train[:,np.newaxis]"
   ]
  },
  {
   "cell_type": "code",
   "execution_count": 3,
   "metadata": {},
   "outputs": [],
   "source": [
    "time_batch = 5\n",
    "y_train_rm_last  = y_train[:-1]\n",
    "y_train_slide = np.roll(y_train_rm_last, -time_batch)\n",
    "y_train_slide = y_train_slide[:-time_batch].astype(int)"
   ]
  },
  {
   "cell_type": "code",
   "execution_count": 4,
   "metadata": {},
   "outputs": [],
   "source": [
    "x_train = np.empty((240,5))\n",
    "for i in range(len(y_train_slide)-time_batch):\n",
    "    x_train[i:i+1] = y_train_slide[i:i+time_batch].T"
   ]
  },
  {
   "cell_type": "markdown",
   "metadata": {},
   "source": [
    "特徴量5個、目的変数1つ（６次元目の特徴量）の学習データの作成完了"
   ]
  },
  {
   "cell_type": "code",
   "execution_count": 107,
   "metadata": {},
   "outputs": [],
   "source": [
    "import copy \n",
    "\n",
    "class SimpleRNN:\n",
    "    def __init__(self, W_in, W_out, W_h):\n",
    "        self.W_in = W_in\n",
    "        self.W_out = W_out\n",
    "        self.W_h = W_h\n",
    "        self.dW_h = copy.copy(self.W_h)\n",
    "        self.dW_in = copy.copy(self.W_in)\n",
    "        self.dW_out = copy.copy(self.W_out)\n",
    "        \n",
    "         \n",
    "    def forward(self, x):\n",
    "        self.y_pred = np.empty((1,6))\n",
    "        self.z_t = np.random.rand(6,4)\n",
    "        for i in range(seq_num):\n",
    "            if i == 0:\n",
    "                print(\"self.z_t:\", self.z_t.shape) #(6,4)\n",
    "                print(\"self.W_in:\", self.W_in.shape) #(6,4,5)\n",
    "                print(\"self.W_h:\", self.W_h.shape) #(4,6)\n",
    "                self.z_t[i:i+1,:] = np.dot(self.W_in[i,:,:], x.T)\n",
    "                self.W_h[:,i:i+1] = self.z_t[i:i+1,:] \n",
    "            else :\n",
    "                z_h = np.dot(self.W_h[:, i:i+1], self.z_t[i:i+1,:])\n",
    "                z_in = np.dot(self.W_in[i,:,:], x.T)\n",
    "                print(z_h.shape)\n",
    "                print(z_in.shape)\n",
    "                self.z_t = z_in + z_h\n",
    "            \n",
    "  \n",
    "\n",
    "        #print(\"self.W_out:\", self.W_out.shape)\n",
    "        self.y_pred = np.sum(np.dot(self.W_out, self.W_h),axis=1)\n",
    "        self.y_pred = self.y_pred[:,np.newaxis]\n",
    "           \n",
    "        \n",
    "    def compute_error(self, x, y):\n",
    "        delta = np.empty((6,1))\n",
    "        for i in range(6):\n",
    "            if i == 5:\n",
    "                delta[i:i+1,:]= y - self.y_pred[-1,:]\n",
    "            else :\n",
    "                #print(\"self.x:\", self.x.shape)\n",
    "                #print(\"self.y_pred:\", self.y_pred.shape)\n",
    "                delta[i:i+1,:]= x[:,i:i+1] - self.y_pred[i:i+1,:]\n",
    "        return delta\n",
    "        \n",
    "    def backward(self, x, y):\n",
    "        '''\n",
    "        各シーケンスに対して、それぞれの隠れ層の出力からの誤差を元に更新料を計算。重みを共有していない。\n",
    "        '''\n",
    "        self.delta = self.compute_error(x, y)\n",
    "        for i in range(seq_num):\n",
    "            self.dW_in[i:i+1,:] = np.dot(self.delta[i:i+1,:], x)\n",
    "            self.dW_out[i:i+1,:] = np.dot(self.delta[i:i+1,:], self.z_t.T)\n",
    "            #print(\"self.W_h:\", self.W_h.shape)\n",
    "            #print(\"self.delta:\", self.delta.shape)\n",
    "            \n",
    "            if i == 0:\n",
    "                self.dW_h[:,i:i+1] = self.W_h[:,i:i+1] * self.delta[i:i+1,:]\n",
    "            else:\n",
    "                self.dW_h[:,i:i+1] = self.W_h[:,i-1:i] * self.delta[i:i+1,:]\n",
    "                \n",
    "        self.W_in +=  self.eta * self.dW_in\n",
    "        self.W_out +=  self.eta * self.dW_out\n",
    "        self.W_h +=  self.eta * self.dW_h\n",
    "        return self.delta\n",
    "    \n",
    "    def fit(self, x, y, iteration, batch_size, eta):\n",
    "        self.eta = eta\n",
    "        loss = []\n",
    "        self.batch_size = batch_size\n",
    "        self.x_train = x\n",
    "        self.y_train = y\n",
    "        \n",
    "        for i in range(iteration):\n",
    "            self.x_mini, self.y_mini = self.mini_batch()\n",
    "            self.forward(self.x_mini)    \n",
    "            self.delta = self.backward(self.x_mini, self.y_mini)\n",
    "            delta_sum = np.mean(self.delta, axis=0)\n",
    "            loss.append(delta_sum)\n",
    "            print(\"loss:\", delta_sum)\n",
    "        return loss\n",
    "    \n",
    "    def predict(self, x_test):\n",
    "        self.z_t = np.dot(self.W_in, x_test.T)\n",
    "        y_pred = np.dot(self.w_out, self.z_t)\n",
    "        return y_pred\n",
    "    \n",
    "    def mini_batch(self):\n",
    "        p = np.random.permutation(self.batch_size)\n",
    "        self.x_mini = self.x_train[p]\n",
    "        self.y_mini = self.y_train[p]\n",
    "        return self.x_mini, self.y_mini"
   ]
  },
  {
   "cell_type": "code",
   "execution_count": 108,
   "metadata": {},
   "outputs": [],
   "source": [
    "batch_size = 1\n",
    "node = 4\n",
    "seq_num = 6\n",
    "w_in = np.random.rand(seq_num, node, x_train.shape[1])*0.00001\n",
    "w_out = np.random.rand(seq_num, node)*0.00001\n",
    "w_h = np.random.rand(node, seq_num)*0.00001"
   ]
  },
  {
   "cell_type": "code",
   "execution_count": 109,
   "metadata": {},
   "outputs": [
    {
     "name": "stdout",
     "output_type": "stream",
     "text": [
      "self.z_t: (6, 4)\n",
      "self.W_in: (6, 4, 5)\n",
      "self.W_h: (4, 6)\n"
     ]
    },
    {
     "ename": "ValueError",
     "evalue": "could not broadcast input array from shape (4,1) into shape (1,4)",
     "output_type": "error",
     "traceback": [
      "\u001b[0;31m---------------------------------------------------------------------------\u001b[0m",
      "\u001b[0;31mValueError\u001b[0m                                Traceback (most recent call last)",
      "\u001b[0;32m<ipython-input-109-3d040a620fd2>\u001b[0m in \u001b[0;36m<module>\u001b[0;34m()\u001b[0m\n\u001b[1;32m      1\u001b[0m \u001b[0mrnn\u001b[0m \u001b[0;34m=\u001b[0m \u001b[0mSimpleRNN\u001b[0m\u001b[0;34m(\u001b[0m\u001b[0mw_in\u001b[0m\u001b[0;34m,\u001b[0m \u001b[0mw_out\u001b[0m\u001b[0;34m,\u001b[0m \u001b[0mw_h\u001b[0m\u001b[0;34m)\u001b[0m\u001b[0;34m\u001b[0m\u001b[0m\n\u001b[0;32m----> 2\u001b[0;31m \u001b[0mh_test\u001b[0m \u001b[0;34m=\u001b[0m \u001b[0mrnn\u001b[0m\u001b[0;34m.\u001b[0m\u001b[0mfit\u001b[0m\u001b[0;34m(\u001b[0m\u001b[0mx_train\u001b[0m\u001b[0;34m[\u001b[0m\u001b[0;36m1\u001b[0m\u001b[0;34m:\u001b[0m\u001b[0;36m2\u001b[0m\u001b[0;34m]\u001b[0m\u001b[0;34m,\u001b[0m \u001b[0my_train_slide\u001b[0m\u001b[0;34m[\u001b[0m\u001b[0;36m1\u001b[0m\u001b[0;34m:\u001b[0m\u001b[0;36m2\u001b[0m\u001b[0;34m]\u001b[0m\u001b[0;34m,\u001b[0m \u001b[0;36m10\u001b[0m\u001b[0;34m,\u001b[0m \u001b[0mbatch_size\u001b[0m\u001b[0;34m,\u001b[0m \u001b[0;36m0.0000000005\u001b[0m\u001b[0;34m)\u001b[0m\u001b[0;34m\u001b[0m\u001b[0m\n\u001b[0m",
      "\u001b[0;32m<ipython-input-107-4297c1304b1b>\u001b[0m in \u001b[0;36mfit\u001b[0;34m(self, x, y, iteration, batch_size, eta)\u001b[0m\n\u001b[1;32m     75\u001b[0m         \u001b[0;32mfor\u001b[0m \u001b[0mi\u001b[0m \u001b[0;32min\u001b[0m \u001b[0mrange\u001b[0m\u001b[0;34m(\u001b[0m\u001b[0miteration\u001b[0m\u001b[0;34m)\u001b[0m\u001b[0;34m:\u001b[0m\u001b[0;34m\u001b[0m\u001b[0m\n\u001b[1;32m     76\u001b[0m             \u001b[0mself\u001b[0m\u001b[0;34m.\u001b[0m\u001b[0mx_mini\u001b[0m\u001b[0;34m,\u001b[0m \u001b[0mself\u001b[0m\u001b[0;34m.\u001b[0m\u001b[0my_mini\u001b[0m \u001b[0;34m=\u001b[0m \u001b[0mself\u001b[0m\u001b[0;34m.\u001b[0m\u001b[0mmini_batch\u001b[0m\u001b[0;34m(\u001b[0m\u001b[0;34m)\u001b[0m\u001b[0;34m\u001b[0m\u001b[0m\n\u001b[0;32m---> 77\u001b[0;31m             \u001b[0mself\u001b[0m\u001b[0;34m.\u001b[0m\u001b[0mforward\u001b[0m\u001b[0;34m(\u001b[0m\u001b[0mself\u001b[0m\u001b[0;34m.\u001b[0m\u001b[0mx_mini\u001b[0m\u001b[0;34m)\u001b[0m\u001b[0;34m\u001b[0m\u001b[0m\n\u001b[0m\u001b[1;32m     78\u001b[0m             \u001b[0mself\u001b[0m\u001b[0;34m.\u001b[0m\u001b[0mdelta\u001b[0m \u001b[0;34m=\u001b[0m \u001b[0mself\u001b[0m\u001b[0;34m.\u001b[0m\u001b[0mbackward\u001b[0m\u001b[0;34m(\u001b[0m\u001b[0mself\u001b[0m\u001b[0;34m.\u001b[0m\u001b[0mx_mini\u001b[0m\u001b[0;34m,\u001b[0m \u001b[0mself\u001b[0m\u001b[0;34m.\u001b[0m\u001b[0my_mini\u001b[0m\u001b[0;34m)\u001b[0m\u001b[0;34m\u001b[0m\u001b[0m\n\u001b[1;32m     79\u001b[0m             \u001b[0mdelta_sum\u001b[0m \u001b[0;34m=\u001b[0m \u001b[0mnp\u001b[0m\u001b[0;34m.\u001b[0m\u001b[0mmean\u001b[0m\u001b[0;34m(\u001b[0m\u001b[0mself\u001b[0m\u001b[0;34m.\u001b[0m\u001b[0mdelta\u001b[0m\u001b[0;34m,\u001b[0m \u001b[0maxis\u001b[0m\u001b[0;34m=\u001b[0m\u001b[0;36m0\u001b[0m\u001b[0;34m)\u001b[0m\u001b[0;34m\u001b[0m\u001b[0m\n",
      "\u001b[0;32m<ipython-input-107-4297c1304b1b>\u001b[0m in \u001b[0;36mforward\u001b[0;34m(self, x)\u001b[0m\n\u001b[1;32m     19\u001b[0m                 \u001b[0mprint\u001b[0m\u001b[0;34m(\u001b[0m\u001b[0;34m\"self.W_in:\"\u001b[0m\u001b[0;34m,\u001b[0m \u001b[0mself\u001b[0m\u001b[0;34m.\u001b[0m\u001b[0mW_in\u001b[0m\u001b[0;34m.\u001b[0m\u001b[0mshape\u001b[0m\u001b[0;34m)\u001b[0m \u001b[0;31m#(6,4,5)\u001b[0m\u001b[0;34m\u001b[0m\u001b[0m\n\u001b[1;32m     20\u001b[0m                 \u001b[0mprint\u001b[0m\u001b[0;34m(\u001b[0m\u001b[0;34m\"self.W_h:\"\u001b[0m\u001b[0;34m,\u001b[0m \u001b[0mself\u001b[0m\u001b[0;34m.\u001b[0m\u001b[0mW_h\u001b[0m\u001b[0;34m.\u001b[0m\u001b[0mshape\u001b[0m\u001b[0;34m)\u001b[0m \u001b[0;31m#(4,6)\u001b[0m\u001b[0;34m\u001b[0m\u001b[0m\n\u001b[0;32m---> 21\u001b[0;31m                 \u001b[0mself\u001b[0m\u001b[0;34m.\u001b[0m\u001b[0mz_t\u001b[0m\u001b[0;34m[\u001b[0m\u001b[0mi\u001b[0m\u001b[0;34m:\u001b[0m\u001b[0mi\u001b[0m\u001b[0;34m+\u001b[0m\u001b[0;36m1\u001b[0m\u001b[0;34m,\u001b[0m\u001b[0;34m:\u001b[0m\u001b[0;34m]\u001b[0m \u001b[0;34m=\u001b[0m \u001b[0mnp\u001b[0m\u001b[0;34m.\u001b[0m\u001b[0mdot\u001b[0m\u001b[0;34m(\u001b[0m\u001b[0mself\u001b[0m\u001b[0;34m.\u001b[0m\u001b[0mW_in\u001b[0m\u001b[0;34m[\u001b[0m\u001b[0mi\u001b[0m\u001b[0;34m,\u001b[0m\u001b[0;34m:\u001b[0m\u001b[0;34m,\u001b[0m\u001b[0;34m:\u001b[0m\u001b[0;34m]\u001b[0m\u001b[0;34m,\u001b[0m \u001b[0mx\u001b[0m\u001b[0;34m.\u001b[0m\u001b[0mT\u001b[0m\u001b[0;34m)\u001b[0m\u001b[0;34m\u001b[0m\u001b[0m\n\u001b[0m\u001b[1;32m     22\u001b[0m                 \u001b[0mself\u001b[0m\u001b[0;34m.\u001b[0m\u001b[0mW_h\u001b[0m\u001b[0;34m[\u001b[0m\u001b[0;34m:\u001b[0m\u001b[0;34m,\u001b[0m\u001b[0mi\u001b[0m\u001b[0;34m:\u001b[0m\u001b[0mi\u001b[0m\u001b[0;34m+\u001b[0m\u001b[0;36m1\u001b[0m\u001b[0;34m]\u001b[0m \u001b[0;34m=\u001b[0m \u001b[0mself\u001b[0m\u001b[0;34m.\u001b[0m\u001b[0mz_t\u001b[0m\u001b[0;34m[\u001b[0m\u001b[0mi\u001b[0m\u001b[0;34m:\u001b[0m\u001b[0mi\u001b[0m\u001b[0;34m+\u001b[0m\u001b[0;36m1\u001b[0m\u001b[0;34m,\u001b[0m\u001b[0;34m:\u001b[0m\u001b[0;34m]\u001b[0m\u001b[0;34m\u001b[0m\u001b[0m\n\u001b[1;32m     23\u001b[0m             \u001b[0;32melse\u001b[0m \u001b[0;34m:\u001b[0m\u001b[0;34m\u001b[0m\u001b[0m\n",
      "\u001b[0;31mValueError\u001b[0m: could not broadcast input array from shape (4,1) into shape (1,4)"
     ]
    }
   ],
   "source": [
    "rnn = SimpleRNN(w_in, w_out, w_h)\n",
    "h_test = rnn.fit(x_train[1:2], y_train_slide[1:2], 10, batch_size, 0.0000000005)"
   ]
  },
  {
   "cell_type": "code",
   "execution_count": 47,
   "metadata": {},
   "outputs": [
    {
     "data": {
      "image/png": "[encoded data removed]",
      "text/plain": [
       "<matplotlib.figure.Figure at 0x1127dba20>"
      ]
     },
     "metadata": {},
     "output_type": "display_data"
    }
   ],
   "source": [
    "plt.plot(h_test)\n",
    "plt.show()"
   ]
  },
  {
   "cell_type": "code",
   "execution_count": null,
   "metadata": {},
   "outputs": [],
   "source": []
  }
 ],
 "metadata": {
  "kernelspec": {
   "display_name": "Python 3",
   "language": "python",
   "name": "python3"
  },
  "language_info": {
   "codemirror_mode": {
    "name": "ipython",
    "version": 3
   },
   "file_extension": ".py",
   "mimetype": "text/x-python",
   "name": "python",
   "nbconvert_exporter": "python",
   "pygments_lexer": "ipython3",
   "version": "3.6.3"
  }
 },
 "nbformat": 4,
 "nbformat_minor": 2
}
