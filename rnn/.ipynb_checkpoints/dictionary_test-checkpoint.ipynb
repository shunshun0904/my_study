{
 "cells": [
  {
   "cell_type": "code",
   "execution_count": 32,
   "metadata": {},
   "outputs": [],
   "source": [
    "test = {\"ピッコロ\":20000, \"フリーザ\":530000, \"悟空\":200000 }\n",
    "test.update({\"ベジータ\":20000, \"ブロリー\":530000, \"セル\":200000 })\n",
    "test.update({\"トランクス\":20000, \"悟天\":530000, \"ご飯\":200000 })\n",
    "import time"
   ]
  },
  {
   "cell_type": "code",
   "execution_count": 45,
   "metadata": {},
   "outputs": [
    {
     "name": "stdout",
     "output_type": "stream",
     "text": [
      "ピッコロ 20000\n",
      "フリーザ 530000\n",
      "悟空 200000\n",
      "ベジータ 20000\n",
      "ブロリー 530000\n",
      "セル 200000\n",
      "トランクス 20000\n",
      "悟天 530000\n",
      "ご飯 200000\n"
     ]
    }
   ],
   "source": [
    "for key, values in test.items():\n",
    "    print(key, values)"
   ]
  },
  {
   "cell_type": "code",
   "execution_count": 46,
   "metadata": {},
   "outputs": [
    {
     "name": "stdout",
     "output_type": "stream",
     "text": [
      "ピッコロ 20000\n",
      "フリーザ 530000\n",
      "悟空 200000\n",
      "ベジータ 20000\n",
      "ブロリー 530000\n",
      "セル 200000\n",
      "トランクス 20000\n",
      "悟天 530000\n",
      "ご飯 200000\n"
     ]
    }
   ],
   "source": [
    "for key in test:\n",
    "    print(key, test[key])"
   ]
  },
  {
   "cell_type": "code",
   "execution_count": 50,
   "metadata": {},
   "outputs": [],
   "source": [
    "hist_worldcup = {\"ブラジル\":5, \"ドイツ\":4, \"イタリア\":4, \"アルゼンチン\":2, \"フランス\":2,\n",
    "\"イングランド\":1}"
   ]
  }
 ],
 "metadata": {
  "kernelspec": {
   "display_name": "Python 3",
   "language": "python",
   "name": "python3"
  },
  "language_info": {
   "codemirror_mode": {
    "name": "ipython",
    "version": 3
   },
   "file_extension": ".py",
   "mimetype": "text/x-python",
   "name": "python",
   "nbconvert_exporter": "python",
   "pygments_lexer": "ipython3",
   "version": "3.6.3"
  }
 },
 "nbformat": 4,
 "nbformat_minor": 2
}
