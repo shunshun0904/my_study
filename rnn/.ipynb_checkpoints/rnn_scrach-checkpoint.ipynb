{
 "cells": [
  {
   "cell_type": "code",
   "execution_count": 170,
   "metadata": {},
   "outputs": [],
   "source": [
    "import numpy as np\n",
    "import matplotlib.pyplot as plt\n",
    "import pandas as pd\n",
    "\n",
    "data_train = pd.read_csv(\"7203_2017.csv\", encoding=\"shift-jis\")\n",
    "data_train_reset = data_train.iloc[1:,0:1].reset_index(drop=True)\n",
    "train = data_train_reset.reset_index()"
   ]
  },
  {
   "cell_type": "code",
   "execution_count": 13,
   "metadata": {},
   "outputs": [],
   "source": [
    "y_train = train['7203 東証1部 トヨタ自動車(株)（輸送用機器）'].values\n",
    "y_train = y_train[:,np.newaxis]"
   ]
  },
  {
   "cell_type": "code",
   "execution_count": 111,
   "metadata": {},
   "outputs": [],
   "source": [
    "time_batch = 5\n",
    "y_train_rm_last  = y_train[:-1]\n",
    "y_train_slide = np.roll(y_train_rm_last, -time_batch)\n",
    "y_train_slide = y_train_slide[:-time_batch].astype(int)"
   ]
  },
  {
   "cell_type": "code",
   "execution_count": 112,
   "metadata": {},
   "outputs": [],
   "source": [
    "x_train = np.empty((240,5))\n",
    "for i in range(len(y_train_slide)-time_batch):\n",
    "    x_train[i:i+1] = y_train_slide[i:i+time_batch].T"
   ]
  },
  {
   "cell_type": "markdown",
   "metadata": {},
   "source": [
    "特徴量5個、目的変数1つ（６次元目の特徴量）のデータの学習データの作成完了"
   ]
  },
  {
   "cell_type": "code",
   "execution_count": 447,
   "metadata": {},
   "outputs": [],
   "source": [
    "import copy \n",
    "\n",
    "class SimpleRNN:\n",
    "    def __init__(self, W_in, W_out, W_h):\n",
    "        self.W_in = W_in\n",
    "        self.W_out = W_out\n",
    "        self.W_h = W_h\n",
    "        self.dW_h = copy.copy(self.W_h)\n",
    "        self.dW_in = copy.copy(self.W_in)\n",
    "        self.dW_out = copy.copy(self.W_out)\n",
    "        self.y_pred = np.empty((1,6))\n",
    "        self.grads = [np.zeros_like(W_in), np.zeros_like(W_out), np.zeros_like(W_h)] \n",
    "       \n",
    "        \n",
    "    def forward(self, x):\n",
    "        for i in range(seq_num):\n",
    "            self.z_t = np.dot(self.W_in[i,:,:], x.T)\n",
    "            self.W_h[:,i:i+1] = self.z_t\n",
    "        #print(\"self.W_h:\", self.W_h.shape)\n",
    "        #print(\"self.W_out:\", self.W_out.shape)\n",
    "        self.y_pred = np.sum(np.dot(self.W_out, self.W_h),axis=1)\n",
    "        self.y_pred = self.y_pred[:,np.newaxis]\n",
    "           \n",
    "        \n",
    "    def compute_error2(self, x, y):\n",
    "        delta = np.random.rand(6,1)\n",
    "        for i in range(6):\n",
    "            if i == 5:\n",
    "                delta[i:i+1,:]= y - self.y_pred[-1,:]\n",
    "            else :\n",
    "                #print(\"self.x:\", self.x.shape)\n",
    "                #print(\"self.y_pred:\", self.y_pred.shape)\n",
    "                delta[i:i+1,:]= x[:,i:i+1] - self.y_pred[i:i+1,:]\n",
    "        return delta\n",
    "        \n",
    "    def backward2(self, x, y):\n",
    "        '''\n",
    "        各シーケンスに対して、それぞれの隠れ層の出力からの誤差を元に更新料を計算。重みを共有していない。\n",
    "        '''\n",
    "        self.delta = self.compute_error2(x, y)\n",
    "        for i in range(seq_num):\n",
    "            self.dW_in[i:i+1,:] = np.dot(self.delta[i:i+1,:], x)\n",
    "            self.dW_out[i:i+1,:] = np.dot(self.delta[i:i+1,:], self.z_t.T)\n",
    "            #print(\"self.W_h:\", self.W_h.shape)\n",
    "            #print(\"self.delta:\", self.delta.shape)\n",
    "            \n",
    "            if i == 0:\n",
    "                self.dW_h[:,i:i+1] = self.W_h[:,i:i+1] * self.delta[i:i+1,:]\n",
    "            else:\n",
    "                self.dW_h[:,i:i+1] = self.W_h[:,i-1:i] * self.delta[i:i+1,:]\n",
    "                \n",
    "        self.W_in +=  self.eta * self.dW_in\n",
    "        self.W_out +=  self.eta * self.dW_out\n",
    "        self.W_h +=  self.eta * self.dW_h\n",
    "        return self.delta\n",
    "    \n",
    "    def fit(self, x, y, iteration, batch_size, eta):\n",
    "        self.eta = eta\n",
    "        loss = []\n",
    "        self.batch_size = batch_size\n",
    "        self.x_train = x\n",
    "        self.y_train = y\n",
    "        \n",
    "        for i in range(iteration):\n",
    "            self.x_mini, self.y_mini = self.mini_batch()\n",
    "            self.forward(self.x_mini)    \n",
    "            self.delta = self.backward2(self.x_mini, self.y_mini)\n",
    "            delta_sum = np.mean(self.delta, axis=0)\n",
    "            loss.append(delta_sum)\n",
    "            print(\"loss:\", delta_sum)\n",
    "        return loss\n",
    "    \n",
    "    def predict(self, x_test):\n",
    "        self.z_t = np.dot(self.W_in, x_test.T)\n",
    "        y_pred = np.dot(self.w_out, self.z_t)\n",
    "        return y_pred\n",
    "    \n",
    "    def mini_batch(self):\n",
    "        p = np.random.permutation(self.batch_size)\n",
    "        self.x_mini = self.x_train[p]\n",
    "        self.y_mini = self.y_train[p]\n",
    "        return self.x_mini, self.y_mini"
   ]
  },
  {
   "cell_type": "code",
   "execution_count": 448,
   "metadata": {},
   "outputs": [],
   "source": [
    "batch_size = 1\n",
    "node = 4\n",
    "seq_num = 6\n",
    "w_in = np.random.rand(seq_num, node, x_train.shape[1])*0.00001\n",
    "w_out = np.random.rand(seq_num, node)*0.00001\n",
    "w_h = np.random.rand(node, seq_num)*0.00001"
   ]
  },
  {
   "cell_type": "code",
   "execution_count": 449,
   "metadata": {},
   "outputs": [
    {
     "name": "stdout",
     "output_type": "stream",
     "text": [
      "loss: [6799.49998335]\n",
      "loss: [6799.40814586]\n",
      "loss: [6698.37552648]\n",
      "loss: [6351.76678058]\n",
      "loss: [5660.15753018]\n",
      "loss: [4635.89671812]\n",
      "loss: [3437.20919906]\n",
      "loss: [2301.27135702]\n",
      "loss: [1408.23681195]\n",
      "loss: [804.95883139]\n"
     ]
    }
   ],
   "source": [
    "rnn = SimpleRNN(w_in, w_out, w_h)\n",
    "h_test = rnn.fit(x_train[1:2], y_train_slide[1:2], 10, batch_size, 0.0000000005)"
   ]
  },
  {
   "cell_type": "code",
   "execution_count": 450,
   "metadata": {},
   "outputs": [
    {
     "data": {
      "image/png": "[encoded data removed]",
      "text/plain": [
       "<matplotlib.figure.Figure at 0x120ce9518>"
      ]
     },
     "metadata": {},
     "output_type": "display_data"
    }
   ],
   "source": [
    "plt.plot(h_test)\n",
    "plt.show()"
   ]
  },
  {
   "cell_type": "code",
   "execution_count": null,
   "metadata": {},
   "outputs": [],
   "source": []
  }
 ],
 "metadata": {
  "kernelspec": {
   "display_name": "Python 3",
   "language": "python",
   "name": "python3"
  },
  "language_info": {
   "codemirror_mode": {
    "name": "ipython",
    "version": 3
   },
   "file_extension": ".py",
   "mimetype": "text/x-python",
   "name": "python",
   "nbconvert_exporter": "python",
   "pygments_lexer": "ipython3",
   "version": "3.6.3"
  }
 },
 "nbformat": 4,
 "nbformat_minor": 2
}
