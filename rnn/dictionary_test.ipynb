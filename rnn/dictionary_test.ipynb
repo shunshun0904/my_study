{
 "cells": [
  {
   "cell_type": "code",
   "execution_count": 32,
   "metadata": {},
   "outputs": [],
   "source": [
    "test = {\"ピッコロ\":20000, \"フリーザ\":530000, \"悟空\":200000 }\n",
    "test.update({\"ベジータ\":20000, \"ブロリー\":530000, \"セル\":200000 })\n",
    "test.update({\"トランクス\":20000, \"悟天\":530000, \"ご飯\":200000 })\n",
    "import time"
   ]
  },
  {
   "cell_type": "code",
   "execution_count": 45,
   "metadata": {},
   "outputs": [
    {
     "name": "stdout",
     "output_type": "stream",
     "text": [
      "ピッコロ 20000\n",
      "フリーザ 530000\n",
      "悟空 200000\n",
      "ベジータ 20000\n",
      "ブロリー 530000\n",
      "セル 200000\n",
      "トランクス 20000\n",
      "悟天 530000\n",
      "ご飯 200000\n"
     ]
    }
   ],
   "source": [
    "for key, values in test.items():\n",
    "    print(key, values)"
   ]
  },
  {
   "cell_type": "code",
   "execution_count": 46,
   "metadata": {},
   "outputs": [
    {
     "name": "stdout",
     "output_type": "stream",
     "text": [
      "ピッコロ 20000\n",
      "フリーザ 530000\n",
      "悟空 200000\n",
      "ベジータ 20000\n",
      "ブロリー 530000\n",
      "セル 200000\n",
      "トランクス 20000\n",
      "悟天 530000\n",
      "ご飯 200000\n"
     ]
    }
   ],
   "source": [
    "for key in test:\n",
    "    print(key, test[key])"
   ]
  },
  {
   "cell_type": "code",
   "execution_count": 50,
   "metadata": {},
   "outputs": [],
   "source": [
    "hist_worldcup = {\"ブラジル\":5, \"ドイツ\":4, \"イタリア\":4, \"アルゼンチン\":2, \"フランス\":2,\n",
    "\"イングランド\":1}"
   ]
  },
  {
   "cell_type": "code",
   "execution_count": 1,
   "metadata": {},
   "outputs": [],
   "source": [
    "import numpy as np"
   ]
  },
  {
   "cell_type": "code",
   "execution_count": 9,
   "metadata": {},
   "outputs": [],
   "source": [
    "a = np.array([[[1,2,3],[3,2,1]]])"
   ]
  },
  {
   "cell_type": "code",
   "execution_count": 32,
   "metadata": {},
   "outputs": [],
   "source": [
    "a = np.random.rand(10,2)*10"
   ]
  },
  {
   "cell_type": "code",
   "execution_count": 33,
   "metadata": {},
   "outputs": [
    {
     "data": {
      "text/plain": [
       "array([[5.6734414 , 9.84603427],\n",
       "       [0.88465779, 9.72070834],\n",
       "       [4.94890639, 0.1614214 ],\n",
       "       [8.46066734, 1.28312648],\n",
       "       [4.0073339 , 6.0565694 ],\n",
       "       [8.72011717, 2.71845655],\n",
       "       [8.7686139 , 8.38161897],\n",
       "       [5.82041613, 7.26064187],\n",
       "       [0.81352193, 8.51419871],\n",
       "       [9.31965197, 5.48155919]])"
      ]
     },
     "execution_count": 33,
     "metadata": {},
     "output_type": "execute_result"
    }
   ],
   "source": [
    "a"
   ]
  },
  {
   "cell_type": "code",
   "execution_count": 34,
   "metadata": {},
   "outputs": [
    {
     "data": {
      "text/plain": [
       "array([[ 6., 10.],\n",
       "       [ 1., 10.],\n",
       "       [ 5.,  1.],\n",
       "       [ 9.,  2.],\n",
       "       [ 5.,  7.],\n",
       "       [ 9.,  3.],\n",
       "       [ 9.,  9.],\n",
       "       [ 6.,  8.],\n",
       "       [ 1.,  9.],\n",
       "       [10.,  6.]])"
      ]
     },
     "execution_count": 34,
     "metadata": {},
     "output_type": "execute_result"
    }
   ],
   "source": [
    "np.ceil(a)"
   ]
  },
  {
   "cell_type": "code",
   "execution_count": null,
   "metadata": {},
   "outputs": [],
   "source": []
  }
 ],
 "metadata": {
  "kernelspec": {
   "display_name": "Python 3",
   "language": "python",
   "name": "python3"
  },
  "language_info": {
   "codemirror_mode": {
    "name": "ipython",
    "version": 3
   },
   "file_extension": ".py",
   "mimetype": "text/x-python",
   "name": "python",
   "nbconvert_exporter": "python",
   "pygments_lexer": "ipython3",
   "version": "3.6.3"
  }
 },
 "nbformat": 4,
 "nbformat_minor": 2
}
